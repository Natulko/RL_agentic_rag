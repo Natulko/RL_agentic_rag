{
 "cells": [
  {
   "cell_type": "markdown",
   "metadata": {},
   "source": [
    "# Imports"
   ]
  },
  {
   "cell_type": "code",
   "execution_count": 2,
   "metadata": {},
   "outputs": [],
   "source": [
    "import os\n",
    "import json\n",
    "import pandas as pd"
   ]
  },
  {
   "cell_type": "markdown",
   "metadata": {},
   "source": [
    "# Investigating dataset"
   ]
  },
  {
   "cell_type": "code",
   "execution_count": 9,
   "metadata": {},
   "outputs": [],
   "source": [
    "df = pd.read_parquet('./../../data/nq_search/test.parquet')\n",
    "qa_dataset = df.to_dict(orient='records')"
   ]
  },
  {
   "cell_type": "code",
   "execution_count": 10,
   "metadata": {},
   "outputs": [
    {
     "data": {
      "text/plain": [
       "3610"
      ]
     },
     "execution_count": 10,
     "metadata": {},
     "output_type": "execute_result"
    }
   ],
   "source": [
    "len(qa_dataset)"
   ]
  },
  {
   "cell_type": "code",
   "execution_count": 13,
   "metadata": {},
   "outputs": [
    {
     "name": "stdout",
     "output_type": "stream",
     "text": [
      "who got the first nobel prize in physics?\n",
      "\n",
      "when is the next deadpool movie being released?\n",
      "\n",
      "which mode is used for short wave broadcast service?\n",
      "\n",
      "the south west wind blows across nigeria between?\n",
      "\n",
      "what does hp mean in war and order?\n",
      "\n"
     ]
    }
   ],
   "source": [
    "for i in range(5):\n",
    "    print(qa_dataset[i]['question'])\n",
    "    print()"
   ]
  },
  {
   "cell_type": "markdown",
   "metadata": {},
   "source": [
    "# Investigating performance"
   ]
  },
  {
   "cell_type": "markdown",
   "metadata": {},
   "source": [
    "### Accuracy score on the first 52 test data entries"
   ]
  },
  {
   "cell_type": "code",
   "execution_count": 6,
   "metadata": {},
   "outputs": [
    {
     "name": "stdout",
     "output_type": "stream",
     "text": [
      "Number of results: 52\n"
     ]
    },
    {
     "data": {
      "text/html": [
       "<div>\n",
       "<style scoped>\n",
       "    .dataframe tbody tr th:only-of-type {\n",
       "        vertical-align: middle;\n",
       "    }\n",
       "\n",
       "    .dataframe tbody tr th {\n",
       "        vertical-align: top;\n",
       "    }\n",
       "\n",
       "    .dataframe thead th {\n",
       "        text-align: right;\n",
       "    }\n",
       "</style>\n",
       "<table border=\"1\" class=\"dataframe\">\n",
       "  <thead>\n",
       "    <tr style=\"text-align: right;\">\n",
       "      <th></th>\n",
       "      <th>original_query</th>\n",
       "      <th>true_answer</th>\n",
       "      <th>subqueries</th>\n",
       "      <th>final_answer</th>\n",
       "      <th>confidence</th>\n",
       "    </tr>\n",
       "  </thead>\n",
       "  <tbody>\n",
       "    <tr>\n",
       "      <th>0</th>\n",
       "      <td>what is the name of manchester united stadium?</td>\n",
       "      <td>Old Trafford</td>\n",
       "      <td>[]</td>\n",
       "      <td>The name of Manchester United's stadium is Old...</td>\n",
       "      <td>1.0</td>\n",
       "    </tr>\n",
       "    <tr>\n",
       "      <th>1</th>\n",
       "      <td>who played the mother in the black stallion?</td>\n",
       "      <td>Teri Garr</td>\n",
       "      <td>[[Which movie is being referred to when mentio...</td>\n",
       "      <td>Hedy Lamarr</td>\n",
       "      <td>0.0</td>\n",
       "    </tr>\n",
       "    <tr>\n",
       "      <th>2</th>\n",
       "      <td>who sings the theme song for the proud family?</td>\n",
       "      <td>Destiny's Child</td>\n",
       "      <td>[[What is the title of the theme song for The ...</td>\n",
       "      <td>Michael Jackson</td>\n",
       "      <td>0.0</td>\n",
       "    </tr>\n",
       "    <tr>\n",
       "      <th>3</th>\n",
       "      <td>who wrote cant get you out of my head lyrics?</td>\n",
       "      <td>Cathy Dennis and Rob Davis</td>\n",
       "      <td>[[Who is the artist of the song \"Can't Get You...</td>\n",
       "      <td>'Can't Get You Out of My Head' is a song by M...</td>\n",
       "      <td>0.0</td>\n",
       "    </tr>\n",
       "    <tr>\n",
       "      <th>4</th>\n",
       "      <td>who is rose in the fall season 2?</td>\n",
       "      <td>Valene Kane</td>\n",
       "      <td>[[What is the name of the TV show or series kn...</td>\n",
       "      <td>Ygritte</td>\n",
       "      <td>0.0</td>\n",
       "    </tr>\n",
       "  </tbody>\n",
       "</table>\n",
       "</div>"
      ],
      "text/plain": [
       "                                   original_query                 true_answer  \\\n",
       "0  what is the name of manchester united stadium?                Old Trafford   \n",
       "1    who played the mother in the black stallion?                   Teri Garr   \n",
       "2  who sings the theme song for the proud family?             Destiny's Child   \n",
       "3   who wrote cant get you out of my head lyrics?  Cathy Dennis and Rob Davis   \n",
       "4               who is rose in the fall season 2?                 Valene Kane   \n",
       "\n",
       "                                          subqueries  \\\n",
       "0                                                 []   \n",
       "1  [[Which movie is being referred to when mentio...   \n",
       "2  [[What is the title of the theme song for The ...   \n",
       "3  [[Who is the artist of the song \"Can't Get You...   \n",
       "4  [[What is the name of the TV show or series kn...   \n",
       "\n",
       "                                        final_answer  confidence  \n",
       "0  The name of Manchester United's stadium is Old...         1.0  \n",
       "1                                       Hedy Lamarr          0.0  \n",
       "2                                   Michael Jackson          0.0  \n",
       "3   'Can't Get You Out of My Head' is a song by M...         0.0  \n",
       "4                                           Ygritte          0.0  "
      ]
     },
     "execution_count": 6,
     "metadata": {},
     "output_type": "execute_result"
    }
   ],
   "source": [
    "results_folder = './../../json_results/accuracy/'\n",
    "results_files = os.listdir(results_folder)\n",
    "results = []\n",
    "\n",
    "for file in [results_folder + file_name for file_name in results_files]:\n",
    "    with open(file, 'r') as f:\n",
    "        for line in f:\n",
    "            data = json.loads(line)\n",
    "            results.append(data)\n",
    "\n",
    "results = pd.DataFrame(results)\n",
    "print(\"Number of results:\", len(results))\n",
    "results.head()"
   ]
  },
  {
   "cell_type": "code",
   "execution_count": 7,
   "metadata": {},
   "outputs": [
    {
     "data": {
      "text/plain": [
       "np.float64(0.25)"
      ]
     },
     "execution_count": 7,
     "metadata": {},
     "output_type": "execute_result"
    }
   ],
   "source": [
    "results['confidence'].mean()"
   ]
  },
  {
   "cell_type": "markdown",
   "metadata": {},
   "source": [
    "### Jaccard similarity score on the first 50 test data entries"
   ]
  },
  {
   "cell_type": "code",
   "execution_count": 14,
   "metadata": {},
   "outputs": [
    {
     "name": "stdout",
     "output_type": "stream",
     "text": [
      "Number of results: 50\n"
     ]
    },
    {
     "data": {
      "text/html": [
       "<div>\n",
       "<style scoped>\n",
       "    .dataframe tbody tr th:only-of-type {\n",
       "        vertical-align: middle;\n",
       "    }\n",
       "\n",
       "    .dataframe tbody tr th {\n",
       "        vertical-align: top;\n",
       "    }\n",
       "\n",
       "    .dataframe thead th {\n",
       "        text-align: right;\n",
       "    }\n",
       "</style>\n",
       "<table border=\"1\" class=\"dataframe\">\n",
       "  <thead>\n",
       "    <tr style=\"text-align: right;\">\n",
       "      <th></th>\n",
       "      <th>original_query</th>\n",
       "      <th>true_answer</th>\n",
       "      <th>subqueries</th>\n",
       "      <th>final_answer</th>\n",
       "      <th>confidence</th>\n",
       "    </tr>\n",
       "  </thead>\n",
       "  <tbody>\n",
       "    <tr>\n",
       "      <th>0</th>\n",
       "      <td>who got the first nobel prize in physics?</td>\n",
       "      <td>Wilhelm Conrad Röntgen</td>\n",
       "      <td>[[In which year was the first Nobel Prize in P...</td>\n",
       "      <td>Wilhelm Conrad Röntgen</td>\n",
       "      <td>1.0</td>\n",
       "    </tr>\n",
       "    <tr>\n",
       "      <th>1</th>\n",
       "      <td>when is the next deadpool movie being released?</td>\n",
       "      <td>May 18, 2018</td>\n",
       "      <td>[[What is the title of the next Deadpool movie...</td>\n",
       "      <td>February 16, 2018</td>\n",
       "      <td>0.2</td>\n",
       "    </tr>\n",
       "    <tr>\n",
       "      <th>2</th>\n",
       "      <td>which mode is used for short wave broadcast se...</td>\n",
       "      <td>Olivia</td>\n",
       "      <td>[[What does \"mode\" refer to in the context of ...</td>\n",
       "      <td>modulation</td>\n",
       "      <td>0.0</td>\n",
       "    </tr>\n",
       "    <tr>\n",
       "      <th>3</th>\n",
       "      <td>the south west wind blows across nigeria between?</td>\n",
       "      <td>till September</td>\n",
       "      <td>[[What is the time period or geographical area...</td>\n",
       "      <td>The southwesterlies across Nigeria is called t...</td>\n",
       "      <td>0.0</td>\n",
       "    </tr>\n",
       "    <tr>\n",
       "      <th>4</th>\n",
       "      <td>what does hp mean in war and order?</td>\n",
       "      <td>hit points or health points</td>\n",
       "      <td>[[What is the definition of \"HP\" in the contex...</td>\n",
       "      <td>Hit Points</td>\n",
       "      <td>0.5</td>\n",
       "    </tr>\n",
       "  </tbody>\n",
       "</table>\n",
       "</div>"
      ],
      "text/plain": [
       "                                      original_query  \\\n",
       "0          who got the first nobel prize in physics?   \n",
       "1    when is the next deadpool movie being released?   \n",
       "2  which mode is used for short wave broadcast se...   \n",
       "3  the south west wind blows across nigeria between?   \n",
       "4                what does hp mean in war and order?   \n",
       "\n",
       "                   true_answer  \\\n",
       "0       Wilhelm Conrad Röntgen   \n",
       "1                 May 18, 2018   \n",
       "2                       Olivia   \n",
       "3               till September   \n",
       "4  hit points or health points   \n",
       "\n",
       "                                          subqueries  \\\n",
       "0  [[In which year was the first Nobel Prize in P...   \n",
       "1  [[What is the title of the next Deadpool movie...   \n",
       "2  [[What does \"mode\" refer to in the context of ...   \n",
       "3  [[What is the time period or geographical area...   \n",
       "4  [[What is the definition of \"HP\" in the contex...   \n",
       "\n",
       "                                        final_answer  confidence  \n",
       "0                            Wilhelm Conrad Röntgen          1.0  \n",
       "1                                 February 16, 2018          0.2  \n",
       "2                                        modulation          0.0  \n",
       "3  The southwesterlies across Nigeria is called t...         0.0  \n",
       "4                                        Hit Points          0.5  "
      ]
     },
     "execution_count": 14,
     "metadata": {},
     "output_type": "execute_result"
    }
   ],
   "source": [
    "results_folder = './../../json_results/jaccard/'\n",
    "results_files = os.listdir(results_folder)\n",
    "results = []\n",
    "\n",
    "for file in [results_folder + file_name for file_name in results_files]:\n",
    "    with open(file, 'r') as f:\n",
    "        for line in f:\n",
    "            data = json.loads(line)\n",
    "            results.append(data)\n",
    "\n",
    "results = pd.DataFrame(results)\n",
    "print(\"Number of results:\", len(results))\n",
    "results.head()"
   ]
  },
  {
   "cell_type": "code",
   "execution_count": 15,
   "metadata": {},
   "outputs": [
    {
     "data": {
      "text/plain": [
       "np.float64(0.18289698394046222)"
      ]
     },
     "execution_count": 15,
     "metadata": {},
     "output_type": "execute_result"
    }
   ],
   "source": [
    "results['confidence'].mean()"
   ]
  }
 ],
 "metadata": {
  "kernelspec": {
   "display_name": "Python 3",
   "language": "python",
   "name": "python3"
  },
  "language_info": {
   "codemirror_mode": {
    "name": "ipython",
    "version": 3
   },
   "file_extension": ".py",
   "mimetype": "text/x-python",
   "name": "python",
   "nbconvert_exporter": "python",
   "pygments_lexer": "ipython3",
   "version": "3.9.21"
  }
 },
 "nbformat": 4,
 "nbformat_minor": 2
}
